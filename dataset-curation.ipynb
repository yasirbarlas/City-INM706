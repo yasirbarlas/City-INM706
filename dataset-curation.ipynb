{
 "cells": [
  {
   "cell_type": "markdown",
   "id": "87df59b4-8058-48d9-8865-66b577a6a04e",
   "metadata": {},
   "source": [
    "# INM706: Dataset Curation\n",
    "\n",
    "We need to reduce the size of our dataset since it is quite large. The original dataset consists of over 20 million datapoints, and we reduce this to 3 million. The original dataset can be found [here](https://www.kaggle.com/datasets/dhruvildave/en-fr-translation-dataset).\n",
    "\n",
    "The work presented here is part of the coursework of the INM706 module at City, University of London. The Github repository can be found [here](https://github.com/yasirbarlas/City-INM706)."
   ]
  },
  {
   "cell_type": "code",
   "execution_count": 1,
   "id": "55291249-b5f4-4634-a61c-440c62300f66",
   "metadata": {},
   "outputs": [],
   "source": [
    "# Import libraries\n",
    "\n",
    "import numpy as np\n",
    "import random\n",
    "import pandas as pd"
   ]
  },
  {
   "cell_type": "code",
   "execution_count": 2,
   "id": "6422bb0e-db98-49aa-97f5-05e2011f2ffa",
   "metadata": {},
   "outputs": [],
   "source": [
    "randomer = 50\n",
    "\n",
    "# Random Seed\n",
    "random.seed(randomer)\n",
    "np.random.seed(randomer)"
   ]
  },
  {
   "cell_type": "code",
   "execution_count": 3,
   "id": "18185a92-cbe2-4bc1-b665-59ef472cbe9e",
   "metadata": {},
   "outputs": [],
   "source": [
    "# Import dataset\n",
    "\n",
    "df = pd.read_csv(\"en-fr.csv\", header = 0, delimiter = \",\")"
   ]
  },
  {
   "cell_type": "code",
   "execution_count": 4,
   "id": "a5194a19-52b3-4ce5-a337-7b70ef36bcaa",
   "metadata": {},
   "outputs": [],
   "source": [
    "# Randomly sample dataset without replacement\n",
    "\n",
    "new_data = df.sample(3000000, random_state = randomer)"
   ]
  },
  {
   "cell_type": "code",
   "execution_count": 5,
   "id": "973f9b1b-dc3f-46ea-a227-01acde58319f",
   "metadata": {},
   "outputs": [],
   "source": [
    "# Save new dataset\n",
    "\n",
    "new_data.to_csv(\"en-fr-3mil.csv\", index = False)"
   ]
  }
 ],
 "metadata": {
  "kernelspec": {
   "display_name": "Python 3 (ipykernel)",
   "language": "python",
   "name": "python3"
  },
  "language_info": {
   "codemirror_mode": {
    "name": "ipython",
    "version": 3
   },
   "file_extension": ".py",
   "mimetype": "text/x-python",
   "name": "python",
   "nbconvert_exporter": "python",
   "pygments_lexer": "ipython3",
   "version": "3.10.13"
  }
 },
 "nbformat": 4,
 "nbformat_minor": 5
}
